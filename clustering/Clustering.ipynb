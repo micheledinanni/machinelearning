{
 "cells": [
  {
   "cell_type": "code",
   "execution_count": 1,
   "metadata": {},
   "outputs": [],
   "source": [
    "import pandas as pd\n",
    "import numpy as np"
   ]
  },
  {
   "cell_type": "code",
   "execution_count": 2,
   "metadata": {
    "hide_input": false
   },
   "outputs": [
    {
     "data": {
      "text/html": [
       "<div>\n",
       "<style scoped>\n",
       "    .dataframe tbody tr th:only-of-type {\n",
       "        vertical-align: middle;\n",
       "    }\n",
       "\n",
       "    .dataframe tbody tr th {\n",
       "        vertical-align: top;\n",
       "    }\n",
       "\n",
       "    .dataframe thead th {\n",
       "        text-align: right;\n",
       "    }\n",
       "</style>\n",
       "<table border=\"1\" class=\"dataframe\">\n",
       "  <thead>\n",
       "    <tr style=\"text-align: right;\">\n",
       "      <th></th>\n",
       "      <th>ds</th>\n",
       "      <th>trend</th>\n",
       "      <th>confirmed</th>\n",
       "      <th>yhat_lower</th>\n",
       "      <th>yhat_upper</th>\n",
       "      <th>trend_lower</th>\n",
       "      <th>trend_upper</th>\n",
       "      <th>additive_terms</th>\n",
       "      <th>additive_terms_lower</th>\n",
       "      <th>additive_terms_upper</th>\n",
       "      <th>holidays</th>\n",
       "      <th>holidays_lower</th>\n",
       "      <th>holidays_upper</th>\n",
       "      <th>multiplicative_terms</th>\n",
       "      <th>multiplicative_terms_lower</th>\n",
       "      <th>multiplicative_terms_upper</th>\n",
       "      <th>weekly</th>\n",
       "      <th>weekly_lower</th>\n",
       "      <th>weekly_upper</th>\n",
       "      <th>country</th>\n",
       "    </tr>\n",
       "  </thead>\n",
       "  <tbody>\n",
       "    <tr>\n",
       "      <th>0</th>\n",
       "      <td>2021-01-24</td>\n",
       "      <td>258.337559</td>\n",
       "      <td>630</td>\n",
       "      <td>575</td>\n",
       "      <td>681</td>\n",
       "      <td>258.337559</td>\n",
       "      <td>258.337559</td>\n",
       "      <td>0.0</td>\n",
       "      <td>0.0</td>\n",
       "      <td>0.0</td>\n",
       "      <td>0.0</td>\n",
       "      <td>0.0</td>\n",
       "      <td>0.0</td>\n",
       "      <td>1.439669</td>\n",
       "      <td>1.439669</td>\n",
       "      <td>1.439669</td>\n",
       "      <td>1.439669</td>\n",
       "      <td>1.439669</td>\n",
       "      <td>1.439669</td>\n",
       "      <td>Albania</td>\n",
       "    </tr>\n",
       "    <tr>\n",
       "      <th>1</th>\n",
       "      <td>2021-01-25</td>\n",
       "      <td>261.120266</td>\n",
       "      <td>575</td>\n",
       "      <td>523</td>\n",
       "      <td>627</td>\n",
       "      <td>261.120266</td>\n",
       "      <td>261.120266</td>\n",
       "      <td>0.0</td>\n",
       "      <td>0.0</td>\n",
       "      <td>0.0</td>\n",
       "      <td>0.0</td>\n",
       "      <td>0.0</td>\n",
       "      <td>0.0</td>\n",
       "      <td>1.203499</td>\n",
       "      <td>1.203499</td>\n",
       "      <td>1.203499</td>\n",
       "      <td>1.203499</td>\n",
       "      <td>1.203499</td>\n",
       "      <td>1.203499</td>\n",
       "      <td>Albania</td>\n",
       "    </tr>\n",
       "    <tr>\n",
       "      <th>2</th>\n",
       "      <td>2021-01-26</td>\n",
       "      <td>263.902974</td>\n",
       "      <td>687</td>\n",
       "      <td>631</td>\n",
       "      <td>738</td>\n",
       "      <td>263.902974</td>\n",
       "      <td>263.906089</td>\n",
       "      <td>0.0</td>\n",
       "      <td>0.0</td>\n",
       "      <td>0.0</td>\n",
       "      <td>0.0</td>\n",
       "      <td>0.0</td>\n",
       "      <td>0.0</td>\n",
       "      <td>1.601754</td>\n",
       "      <td>1.601754</td>\n",
       "      <td>1.601754</td>\n",
       "      <td>1.601754</td>\n",
       "      <td>1.601754</td>\n",
       "      <td>1.601754</td>\n",
       "      <td>Albania</td>\n",
       "    </tr>\n",
       "    <tr>\n",
       "      <th>3</th>\n",
       "      <td>2021-01-27</td>\n",
       "      <td>266.685682</td>\n",
       "      <td>695</td>\n",
       "      <td>646</td>\n",
       "      <td>749</td>\n",
       "      <td>266.493468</td>\n",
       "      <td>267.192809</td>\n",
       "      <td>0.0</td>\n",
       "      <td>0.0</td>\n",
       "      <td>0.0</td>\n",
       "      <td>0.0</td>\n",
       "      <td>0.0</td>\n",
       "      <td>0.0</td>\n",
       "      <td>1.606622</td>\n",
       "      <td>1.606622</td>\n",
       "      <td>1.606622</td>\n",
       "      <td>1.606622</td>\n",
       "      <td>1.606622</td>\n",
       "      <td>1.606622</td>\n",
       "      <td>Albania</td>\n",
       "    </tr>\n",
       "    <tr>\n",
       "      <th>4</th>\n",
       "      <td>2021-01-28</td>\n",
       "      <td>269.468389</td>\n",
       "      <td>723</td>\n",
       "      <td>672</td>\n",
       "      <td>772</td>\n",
       "      <td>268.899850</td>\n",
       "      <td>270.613848</td>\n",
       "      <td>0.0</td>\n",
       "      <td>0.0</td>\n",
       "      <td>0.0</td>\n",
       "      <td>0.0</td>\n",
       "      <td>0.0</td>\n",
       "      <td>0.0</td>\n",
       "      <td>1.684036</td>\n",
       "      <td>1.684036</td>\n",
       "      <td>1.684036</td>\n",
       "      <td>1.684036</td>\n",
       "      <td>1.684036</td>\n",
       "      <td>1.684036</td>\n",
       "      <td>Albania</td>\n",
       "    </tr>\n",
       "  </tbody>\n",
       "</table>\n",
       "</div>"
      ],
      "text/plain": [
       "           ds       trend  confirmed  yhat_lower  yhat_upper  trend_lower  \\\n",
       "0  2021-01-24  258.337559        630         575         681   258.337559   \n",
       "1  2021-01-25  261.120266        575         523         627   261.120266   \n",
       "2  2021-01-26  263.902974        687         631         738   263.902974   \n",
       "3  2021-01-27  266.685682        695         646         749   266.493468   \n",
       "4  2021-01-28  269.468389        723         672         772   268.899850   \n",
       "\n",
       "   trend_upper  additive_terms  additive_terms_lower  additive_terms_upper  \\\n",
       "0   258.337559             0.0                   0.0                   0.0   \n",
       "1   261.120266             0.0                   0.0                   0.0   \n",
       "2   263.906089             0.0                   0.0                   0.0   \n",
       "3   267.192809             0.0                   0.0                   0.0   \n",
       "4   270.613848             0.0                   0.0                   0.0   \n",
       "\n",
       "   holidays  holidays_lower  holidays_upper  multiplicative_terms  \\\n",
       "0       0.0             0.0             0.0              1.439669   \n",
       "1       0.0             0.0             0.0              1.203499   \n",
       "2       0.0             0.0             0.0              1.601754   \n",
       "3       0.0             0.0             0.0              1.606622   \n",
       "4       0.0             0.0             0.0              1.684036   \n",
       "\n",
       "   multiplicative_terms_lower  multiplicative_terms_upper    weekly  \\\n",
       "0                    1.439669                    1.439669  1.439669   \n",
       "1                    1.203499                    1.203499  1.203499   \n",
       "2                    1.601754                    1.601754  1.601754   \n",
       "3                    1.606622                    1.606622  1.606622   \n",
       "4                    1.684036                    1.684036  1.684036   \n",
       "\n",
       "   weekly_lower  weekly_upper  country  \n",
       "0      1.439669      1.439669  Albania  \n",
       "1      1.203499      1.203499  Albania  \n",
       "2      1.601754      1.601754  Albania  \n",
       "3      1.606622      1.606622  Albania  \n",
       "4      1.684036      1.684036  Albania  "
      ]
     },
     "execution_count": 2,
     "metadata": {},
     "output_type": "execute_result"
    }
   ],
   "source": [
    "df = pd.read_csv('./forecast_future_dfs_2021-01-24.csv')\n",
    "df.head()"
   ]
  },
  {
   "cell_type": "code",
   "execution_count": 3,
   "metadata": {},
   "outputs": [
    {
     "data": {
      "text/plain": [
       "(490, 20)"
      ]
     },
     "execution_count": 3,
     "metadata": {},
     "output_type": "execute_result"
    }
   ],
   "source": [
    "df.shape"
   ]
  },
  {
   "cell_type": "code",
   "execution_count": 4,
   "metadata": {},
   "outputs": [],
   "source": [
    "df = df.iloc[:, 1:19]"
   ]
  },
  {
   "cell_type": "code",
   "execution_count": 5,
   "metadata": {},
   "outputs": [
    {
     "data": {
      "text/html": [
       "<div>\n",
       "<style scoped>\n",
       "    .dataframe tbody tr th:only-of-type {\n",
       "        vertical-align: middle;\n",
       "    }\n",
       "\n",
       "    .dataframe tbody tr th {\n",
       "        vertical-align: top;\n",
       "    }\n",
       "\n",
       "    .dataframe thead th {\n",
       "        text-align: right;\n",
       "    }\n",
       "</style>\n",
       "<table border=\"1\" class=\"dataframe\">\n",
       "  <thead>\n",
       "    <tr style=\"text-align: right;\">\n",
       "      <th></th>\n",
       "      <th>trend</th>\n",
       "      <th>confirmed</th>\n",
       "      <th>yhat_lower</th>\n",
       "      <th>yhat_upper</th>\n",
       "      <th>trend_lower</th>\n",
       "      <th>trend_upper</th>\n",
       "      <th>additive_terms</th>\n",
       "      <th>additive_terms_lower</th>\n",
       "      <th>additive_terms_upper</th>\n",
       "      <th>holidays</th>\n",
       "      <th>holidays_lower</th>\n",
       "      <th>holidays_upper</th>\n",
       "      <th>multiplicative_terms</th>\n",
       "      <th>multiplicative_terms_lower</th>\n",
       "      <th>multiplicative_terms_upper</th>\n",
       "      <th>weekly</th>\n",
       "      <th>weekly_lower</th>\n",
       "      <th>weekly_upper</th>\n",
       "    </tr>\n",
       "  </thead>\n",
       "  <tbody>\n",
       "    <tr>\n",
       "      <th>0</th>\n",
       "      <td>258.337559</td>\n",
       "      <td>630</td>\n",
       "      <td>575</td>\n",
       "      <td>681</td>\n",
       "      <td>258.337559</td>\n",
       "      <td>258.337559</td>\n",
       "      <td>0.0</td>\n",
       "      <td>0.0</td>\n",
       "      <td>0.0</td>\n",
       "      <td>0.0</td>\n",
       "      <td>0.0</td>\n",
       "      <td>0.0</td>\n",
       "      <td>1.439669</td>\n",
       "      <td>1.439669</td>\n",
       "      <td>1.439669</td>\n",
       "      <td>1.439669</td>\n",
       "      <td>1.439669</td>\n",
       "      <td>1.439669</td>\n",
       "    </tr>\n",
       "    <tr>\n",
       "      <th>1</th>\n",
       "      <td>261.120266</td>\n",
       "      <td>575</td>\n",
       "      <td>523</td>\n",
       "      <td>627</td>\n",
       "      <td>261.120266</td>\n",
       "      <td>261.120266</td>\n",
       "      <td>0.0</td>\n",
       "      <td>0.0</td>\n",
       "      <td>0.0</td>\n",
       "      <td>0.0</td>\n",
       "      <td>0.0</td>\n",
       "      <td>0.0</td>\n",
       "      <td>1.203499</td>\n",
       "      <td>1.203499</td>\n",
       "      <td>1.203499</td>\n",
       "      <td>1.203499</td>\n",
       "      <td>1.203499</td>\n",
       "      <td>1.203499</td>\n",
       "    </tr>\n",
       "    <tr>\n",
       "      <th>2</th>\n",
       "      <td>263.902974</td>\n",
       "      <td>687</td>\n",
       "      <td>631</td>\n",
       "      <td>738</td>\n",
       "      <td>263.902974</td>\n",
       "      <td>263.906089</td>\n",
       "      <td>0.0</td>\n",
       "      <td>0.0</td>\n",
       "      <td>0.0</td>\n",
       "      <td>0.0</td>\n",
       "      <td>0.0</td>\n",
       "      <td>0.0</td>\n",
       "      <td>1.601754</td>\n",
       "      <td>1.601754</td>\n",
       "      <td>1.601754</td>\n",
       "      <td>1.601754</td>\n",
       "      <td>1.601754</td>\n",
       "      <td>1.601754</td>\n",
       "    </tr>\n",
       "    <tr>\n",
       "      <th>3</th>\n",
       "      <td>266.685682</td>\n",
       "      <td>695</td>\n",
       "      <td>646</td>\n",
       "      <td>749</td>\n",
       "      <td>266.493468</td>\n",
       "      <td>267.192809</td>\n",
       "      <td>0.0</td>\n",
       "      <td>0.0</td>\n",
       "      <td>0.0</td>\n",
       "      <td>0.0</td>\n",
       "      <td>0.0</td>\n",
       "      <td>0.0</td>\n",
       "      <td>1.606622</td>\n",
       "      <td>1.606622</td>\n",
       "      <td>1.606622</td>\n",
       "      <td>1.606622</td>\n",
       "      <td>1.606622</td>\n",
       "      <td>1.606622</td>\n",
       "    </tr>\n",
       "    <tr>\n",
       "      <th>4</th>\n",
       "      <td>269.468389</td>\n",
       "      <td>723</td>\n",
       "      <td>672</td>\n",
       "      <td>772</td>\n",
       "      <td>268.899850</td>\n",
       "      <td>270.613848</td>\n",
       "      <td>0.0</td>\n",
       "      <td>0.0</td>\n",
       "      <td>0.0</td>\n",
       "      <td>0.0</td>\n",
       "      <td>0.0</td>\n",
       "      <td>0.0</td>\n",
       "      <td>1.684036</td>\n",
       "      <td>1.684036</td>\n",
       "      <td>1.684036</td>\n",
       "      <td>1.684036</td>\n",
       "      <td>1.684036</td>\n",
       "      <td>1.684036</td>\n",
       "    </tr>\n",
       "  </tbody>\n",
       "</table>\n",
       "</div>"
      ],
      "text/plain": [
       "        trend  confirmed  yhat_lower  yhat_upper  trend_lower  trend_upper  \\\n",
       "0  258.337559        630         575         681   258.337559   258.337559   \n",
       "1  261.120266        575         523         627   261.120266   261.120266   \n",
       "2  263.902974        687         631         738   263.902974   263.906089   \n",
       "3  266.685682        695         646         749   266.493468   267.192809   \n",
       "4  269.468389        723         672         772   268.899850   270.613848   \n",
       "\n",
       "   additive_terms  additive_terms_lower  additive_terms_upper  holidays  \\\n",
       "0             0.0                   0.0                   0.0       0.0   \n",
       "1             0.0                   0.0                   0.0       0.0   \n",
       "2             0.0                   0.0                   0.0       0.0   \n",
       "3             0.0                   0.0                   0.0       0.0   \n",
       "4             0.0                   0.0                   0.0       0.0   \n",
       "\n",
       "   holidays_lower  holidays_upper  multiplicative_terms  \\\n",
       "0             0.0             0.0              1.439669   \n",
       "1             0.0             0.0              1.203499   \n",
       "2             0.0             0.0              1.601754   \n",
       "3             0.0             0.0              1.606622   \n",
       "4             0.0             0.0              1.684036   \n",
       "\n",
       "   multiplicative_terms_lower  multiplicative_terms_upper    weekly  \\\n",
       "0                    1.439669                    1.439669  1.439669   \n",
       "1                    1.203499                    1.203499  1.203499   \n",
       "2                    1.601754                    1.601754  1.601754   \n",
       "3                    1.606622                    1.606622  1.606622   \n",
       "4                    1.684036                    1.684036  1.684036   \n",
       "\n",
       "   weekly_lower  weekly_upper  \n",
       "0      1.439669      1.439669  \n",
       "1      1.203499      1.203499  \n",
       "2      1.601754      1.601754  \n",
       "3      1.606622      1.606622  \n",
       "4      1.684036      1.684036  "
      ]
     },
     "execution_count": 5,
     "metadata": {},
     "output_type": "execute_result"
    }
   ],
   "source": [
    "df.head()"
   ]
  },
  {
   "cell_type": "code",
   "execution_count": 6,
   "metadata": {},
   "outputs": [
    {
     "data": {
      "text/plain": [
       "trend                         float64\n",
       "confirmed                       int64\n",
       "yhat_lower                      int64\n",
       "yhat_upper                      int64\n",
       "trend_lower                   float64\n",
       "trend_upper                   float64\n",
       "additive_terms                float64\n",
       "additive_terms_lower          float64\n",
       "additive_terms_upper          float64\n",
       "holidays                      float64\n",
       "holidays_lower                float64\n",
       "holidays_upper                float64\n",
       "multiplicative_terms          float64\n",
       "multiplicative_terms_lower    float64\n",
       "multiplicative_terms_upper    float64\n",
       "weekly                        float64\n",
       "weekly_lower                  float64\n",
       "weekly_upper                  float64\n",
       "dtype: object"
      ]
     },
     "execution_count": 6,
     "metadata": {},
     "output_type": "execute_result"
    }
   ],
   "source": [
    "df.dtypes"
   ]
  },
  {
   "cell_type": "code",
   "execution_count": 7,
   "metadata": {},
   "outputs": [
    {
     "data": {
      "text/plain": [
       "trend                          0\n",
       "confirmed                      0\n",
       "yhat_lower                     0\n",
       "yhat_upper                     0\n",
       "trend_lower                    0\n",
       "trend_upper                    0\n",
       "additive_terms                 0\n",
       "additive_terms_lower           0\n",
       "additive_terms_upper           0\n",
       "holidays                      21\n",
       "holidays_lower                21\n",
       "holidays_upper                21\n",
       "multiplicative_terms           0\n",
       "multiplicative_terms_lower     0\n",
       "multiplicative_terms_upper     0\n",
       "weekly                         0\n",
       "weekly_lower                   0\n",
       "weekly_upper                   0\n",
       "dtype: int64"
      ]
     },
     "execution_count": 7,
     "metadata": {},
     "output_type": "execute_result"
    }
   ],
   "source": [
    "df.isna().sum()"
   ]
  },
  {
   "cell_type": "code",
   "execution_count": 8,
   "metadata": {},
   "outputs": [
    {
     "data": {
      "text/html": [
       "<div>\n",
       "<style scoped>\n",
       "    .dataframe tbody tr th:only-of-type {\n",
       "        vertical-align: middle;\n",
       "    }\n",
       "\n",
       "    .dataframe tbody tr th {\n",
       "        vertical-align: top;\n",
       "    }\n",
       "\n",
       "    .dataframe thead th {\n",
       "        text-align: right;\n",
       "    }\n",
       "</style>\n",
       "<table border=\"1\" class=\"dataframe\">\n",
       "  <thead>\n",
       "    <tr style=\"text-align: right;\">\n",
       "      <th></th>\n",
       "      <th>trend</th>\n",
       "      <th>confirmed</th>\n",
       "      <th>yhat_lower</th>\n",
       "      <th>yhat_upper</th>\n",
       "      <th>trend_lower</th>\n",
       "      <th>trend_upper</th>\n",
       "      <th>additive_terms</th>\n",
       "      <th>additive_terms_lower</th>\n",
       "      <th>additive_terms_upper</th>\n",
       "      <th>holidays</th>\n",
       "      <th>holidays_lower</th>\n",
       "      <th>holidays_upper</th>\n",
       "      <th>multiplicative_terms</th>\n",
       "      <th>multiplicative_terms_lower</th>\n",
       "      <th>multiplicative_terms_upper</th>\n",
       "      <th>weekly</th>\n",
       "      <th>weekly_lower</th>\n",
       "      <th>weekly_upper</th>\n",
       "    </tr>\n",
       "  </thead>\n",
       "  <tbody>\n",
       "    <tr>\n",
       "      <th>0</th>\n",
       "      <td>258.337559</td>\n",
       "      <td>630</td>\n",
       "      <td>575</td>\n",
       "      <td>681</td>\n",
       "      <td>258.337559</td>\n",
       "      <td>258.337559</td>\n",
       "      <td>0.0</td>\n",
       "      <td>0.0</td>\n",
       "      <td>0.0</td>\n",
       "      <td>0.0</td>\n",
       "      <td>0.0</td>\n",
       "      <td>0.0</td>\n",
       "      <td>1.439669</td>\n",
       "      <td>1.439669</td>\n",
       "      <td>1.439669</td>\n",
       "      <td>1.439669</td>\n",
       "      <td>1.439669</td>\n",
       "      <td>1.439669</td>\n",
       "    </tr>\n",
       "    <tr>\n",
       "      <th>1</th>\n",
       "      <td>261.120266</td>\n",
       "      <td>575</td>\n",
       "      <td>523</td>\n",
       "      <td>627</td>\n",
       "      <td>261.120266</td>\n",
       "      <td>261.120266</td>\n",
       "      <td>0.0</td>\n",
       "      <td>0.0</td>\n",
       "      <td>0.0</td>\n",
       "      <td>0.0</td>\n",
       "      <td>0.0</td>\n",
       "      <td>0.0</td>\n",
       "      <td>1.203499</td>\n",
       "      <td>1.203499</td>\n",
       "      <td>1.203499</td>\n",
       "      <td>1.203499</td>\n",
       "      <td>1.203499</td>\n",
       "      <td>1.203499</td>\n",
       "    </tr>\n",
       "    <tr>\n",
       "      <th>2</th>\n",
       "      <td>263.902974</td>\n",
       "      <td>687</td>\n",
       "      <td>631</td>\n",
       "      <td>738</td>\n",
       "      <td>263.902974</td>\n",
       "      <td>263.906089</td>\n",
       "      <td>0.0</td>\n",
       "      <td>0.0</td>\n",
       "      <td>0.0</td>\n",
       "      <td>0.0</td>\n",
       "      <td>0.0</td>\n",
       "      <td>0.0</td>\n",
       "      <td>1.601754</td>\n",
       "      <td>1.601754</td>\n",
       "      <td>1.601754</td>\n",
       "      <td>1.601754</td>\n",
       "      <td>1.601754</td>\n",
       "      <td>1.601754</td>\n",
       "    </tr>\n",
       "    <tr>\n",
       "      <th>3</th>\n",
       "      <td>266.685682</td>\n",
       "      <td>695</td>\n",
       "      <td>646</td>\n",
       "      <td>749</td>\n",
       "      <td>266.493468</td>\n",
       "      <td>267.192809</td>\n",
       "      <td>0.0</td>\n",
       "      <td>0.0</td>\n",
       "      <td>0.0</td>\n",
       "      <td>0.0</td>\n",
       "      <td>0.0</td>\n",
       "      <td>0.0</td>\n",
       "      <td>1.606622</td>\n",
       "      <td>1.606622</td>\n",
       "      <td>1.606622</td>\n",
       "      <td>1.606622</td>\n",
       "      <td>1.606622</td>\n",
       "      <td>1.606622</td>\n",
       "    </tr>\n",
       "    <tr>\n",
       "      <th>4</th>\n",
       "      <td>269.468389</td>\n",
       "      <td>723</td>\n",
       "      <td>672</td>\n",
       "      <td>772</td>\n",
       "      <td>268.899850</td>\n",
       "      <td>270.613848</td>\n",
       "      <td>0.0</td>\n",
       "      <td>0.0</td>\n",
       "      <td>0.0</td>\n",
       "      <td>0.0</td>\n",
       "      <td>0.0</td>\n",
       "      <td>0.0</td>\n",
       "      <td>1.684036</td>\n",
       "      <td>1.684036</td>\n",
       "      <td>1.684036</td>\n",
       "      <td>1.684036</td>\n",
       "      <td>1.684036</td>\n",
       "      <td>1.684036</td>\n",
       "    </tr>\n",
       "  </tbody>\n",
       "</table>\n",
       "</div>"
      ],
      "text/plain": [
       "        trend  confirmed  yhat_lower  yhat_upper  trend_lower  trend_upper  \\\n",
       "0  258.337559        630         575         681   258.337559   258.337559   \n",
       "1  261.120266        575         523         627   261.120266   261.120266   \n",
       "2  263.902974        687         631         738   263.902974   263.906089   \n",
       "3  266.685682        695         646         749   266.493468   267.192809   \n",
       "4  269.468389        723         672         772   268.899850   270.613848   \n",
       "\n",
       "   additive_terms  additive_terms_lower  additive_terms_upper  holidays  \\\n",
       "0             0.0                   0.0                   0.0       0.0   \n",
       "1             0.0                   0.0                   0.0       0.0   \n",
       "2             0.0                   0.0                   0.0       0.0   \n",
       "3             0.0                   0.0                   0.0       0.0   \n",
       "4             0.0                   0.0                   0.0       0.0   \n",
       "\n",
       "   holidays_lower  holidays_upper  multiplicative_terms  \\\n",
       "0             0.0             0.0              1.439669   \n",
       "1             0.0             0.0              1.203499   \n",
       "2             0.0             0.0              1.601754   \n",
       "3             0.0             0.0              1.606622   \n",
       "4             0.0             0.0              1.684036   \n",
       "\n",
       "   multiplicative_terms_lower  multiplicative_terms_upper    weekly  \\\n",
       "0                    1.439669                    1.439669  1.439669   \n",
       "1                    1.203499                    1.203499  1.203499   \n",
       "2                    1.601754                    1.601754  1.601754   \n",
       "3                    1.606622                    1.606622  1.606622   \n",
       "4                    1.684036                    1.684036  1.684036   \n",
       "\n",
       "   weekly_lower  weekly_upper  \n",
       "0      1.439669      1.439669  \n",
       "1      1.203499      1.203499  \n",
       "2      1.601754      1.601754  \n",
       "3      1.606622      1.606622  \n",
       "4      1.684036      1.684036  "
      ]
     },
     "execution_count": 8,
     "metadata": {},
     "output_type": "execute_result"
    }
   ],
   "source": [
    "df = df.fillna(df.mean())\n",
    "df.head()"
   ]
  },
  {
   "cell_type": "code",
   "execution_count": 9,
   "metadata": {},
   "outputs": [],
   "source": [
    "from sklearn.preprocessing import StandardScaler\n",
    "\n",
    "sc = StandardScaler()\n",
    "X_std = sc.fit_transform(df)"
   ]
  },
  {
   "cell_type": "code",
   "execution_count": 10,
   "metadata": {},
   "outputs": [
    {
     "data": {
      "text/plain": [
       "array([0.34074971, 0.66816302, 0.99047606, 0.99732059, 0.99998885,\n",
       "       0.99999684, 0.99999927, 0.99999999, 1.        , 1.        ,\n",
       "       1.        , 1.        , 1.        , 1.        , 1.        ,\n",
       "       1.        , 1.        , 1.        ])"
      ]
     },
     "execution_count": 10,
     "metadata": {},
     "output_type": "execute_result"
    }
   ],
   "source": [
    "from sklearn.decomposition import PCA\n",
    "\n",
    "pca = PCA()\n",
    "X_pca = pca.fit_transform(X_std)\n",
    "np.cumsum(pca.explained_variance_ratio_)"
   ]
  },
  {
   "cell_type": "code",
   "execution_count": 11,
   "metadata": {},
   "outputs": [],
   "source": [
    "X_pca = PCA(n_components=3).fit_transform(X_std)"
   ]
  },
  {
   "cell_type": "markdown",
   "metadata": {},
   "source": [
    "### K-MEANS"
   ]
  },
  {
   "cell_type": "code",
   "execution_count": 12,
   "metadata": {},
   "outputs": [
    {
     "data": {
      "image/png": "[encoded data removed]",
      "text/plain": [
       "<Figure size 432x288 with 1 Axes>"
      ]
     },
     "metadata": {
      "needs_background": "light"
     },
     "output_type": "display_data"
    }
   ],
   "source": [
    "from sklearn.cluster import KMeans\n",
    "import matplotlib.pyplot as plt \n",
    "\n",
    "distortions = []\n",
    "for i in range(1, 11):\n",
    "    km = KMeans(n_clusters=i, \n",
    "                init='k-means++', \n",
    "                n_init=10, \n",
    "                max_iter=300, \n",
    "                random_state=1)\n",
    "    km.fit(X_pca)\n",
    "    distortions.append(km.inertia_)\n",
    "plt.plot(range(1, 11), distortions, marker='o', color='red')\n",
    "plt.xlabel('Number of clusters')\n",
    "plt.ylabel('Distortion')\n",
    "plt.grid()\n",
    "plt.tight_layout()\n",
    "plt.show()"
   ]
  },
  {
   "cell_type": "code",
   "execution_count": 13,
   "metadata": {},
   "outputs": [
    {
     "data": {
      "text/plain": [
       "[8735.99883770776,\n",
       " 5797.311764671074,\n",
       " 3611.762175904441,\n",
       " 1750.7006554928337,\n",
       " 1226.8835519022748,\n",
       " 895.2931927103988,\n",
       " 669.4855945482797,\n",
       " 554.1718428020055,\n",
       " 477.38591400979215,\n",
       " 408.98743701160134]"
      ]
     },
     "execution_count": 13,
     "metadata": {},
     "output_type": "execute_result"
    }
   ],
   "source": [
    "distortions"
   ]
  },
  {
   "cell_type": "code",
   "execution_count": 35,
   "metadata": {},
   "outputs": [
    {
     "data": {
      "text/plain": [
       "0.4833668535439387"
      ]
     },
     "execution_count": 35,
     "metadata": {},
     "output_type": "execute_result"
    }
   ],
   "source": [
    "from sklearn.metrics import silhouette_score\n",
    "\n",
    "km = KMeans(n_clusters=4, \n",
    "                init='k-means++', \n",
    "                n_init=10, \n",
    "                max_iter=100, \n",
    "                random_state=1)\n",
    "\n",
    "km.fit(X_pca)\n",
    "y_km = km.predict(X_pca)\n",
    "\n",
    "silhouette_score(X_pca, y_km, metric = 'euclidean') "
   ]
  },
  {
   "cell_type": "code",
   "execution_count": 36,
   "metadata": {},
   "outputs": [
    {
     "data": {
      "image/png": "[encoded data removed]",
      "text/plain": [
       "<Figure size 432x288 with 1 Axes>"
      ]
     },
     "metadata": {
      "needs_background": "light"
     },
     "output_type": "display_data"
    }
   ],
   "source": [
    "from sklearn.metrics import silhouette_samples\n",
    "from matplotlib import cm\n",
    "\n",
    "cluster_labels = np.unique(y_km)\n",
    "n_clusters = cluster_labels.shape[0]\n",
    "silhouette_vals = silhouette_samples(X_pca, y_km, metric='euclidean')\n",
    "y_ax_lower, y_ax_upper = 0, 0\n",
    "yticks = []\n",
    "for i, c in enumerate(cluster_labels):\n",
    "    c_silhouette_vals = silhouette_vals[y_km == c]\n",
    "    c_silhouette_vals.sort()\n",
    "    y_ax_upper += len(c_silhouette_vals)\n",
    "    color = cm.jet(float(i) / n_clusters)\n",
    "    plt.barh(range(y_ax_lower, y_ax_upper), c_silhouette_vals, height=1.0, \n",
    "             edgecolor='none', color=color)\n",
    "\n",
    "    yticks.append((y_ax_lower + y_ax_upper) / 2.)\n",
    "    y_ax_lower += len(c_silhouette_vals)\n",
    "    \n",
    "silhouette_avg = np.mean(silhouette_vals)\n",
    "plt.axvline(silhouette_avg, color=\"red\", linestyle=\"--\") \n",
    "\n",
    "plt.yticks(yticks, cluster_labels + 1)\n",
    "plt.ylabel('Cluster')\n",
    "plt.xlabel('Silhouette coefficient')\n",
    "plt.tight_layout()\n",
    "plt.show()"
   ]
  },
  {
   "cell_type": "markdown",
   "metadata": {},
   "source": [
    "### CLUSTERING GERARCHICO"
   ]
  },
  {
   "cell_type": "code",
   "execution_count": 16,
   "metadata": {},
   "outputs": [
    {
     "data": {
      "text/plain": [
       "0.36050697918416624"
      ]
     },
     "execution_count": 16,
     "metadata": {},
     "output_type": "execute_result"
    }
   ],
   "source": [
    "from sklearn.cluster import AgglomerativeClustering\n",
    "from sklearn.metrics import silhouette_score\n",
    "\n",
    "clust = AgglomerativeClustering(n_clusters=4, linkage='complete', affinity='euclidean')\n",
    "pred = clust.fit_predict(X_pca)\n",
    "\n",
    "silhouette_score(X_pca, pred, metric='euclidean')"
   ]
  },
  {
   "cell_type": "code",
   "execution_count": 396,
   "metadata": {},
   "outputs": [
    {
     "data": {
      "image/png": "[encoded data removed]",
      "text/plain": [
       "<Figure size 432x288 with 1 Axes>"
      ]
     },
     "metadata": {
      "needs_background": "light"
     },
     "output_type": "display_data"
    }
   ],
   "source": [
    "cluster_labels = np.unique(pred)\n",
    "n_clusters = cluster_labels.shape[0]\n",
    "silhouette_vals = silhouette_samples(X_pca, pred, metric='euclidean')\n",
    "y_ax_lower, y_ax_upper = 0, 0\n",
    "yticks = []\n",
    "for i, c in enumerate(cluster_labels):\n",
    "    c_silhouette_vals = silhouette_vals[pred == c]\n",
    "    c_silhouette_vals.sort()\n",
    "    y_ax_upper += len(c_silhouette_vals)\n",
    "    color = cm.jet(float(i) / n_clusters)\n",
    "    plt.barh(range(y_ax_lower, y_ax_upper), c_silhouette_vals, height=1.0, \n",
    "             edgecolor='none', color=color)\n",
    "\n",
    "    yticks.append((y_ax_lower + y_ax_upper) / 2.)\n",
    "    y_ax_lower += len(c_silhouette_vals)\n",
    "    \n",
    "silhouette_avg = np.mean(silhouette_vals)\n",
    "plt.axvline(silhouette_avg, color=\"red\", linestyle=\"--\") \n",
    "\n",
    "plt.yticks(yticks, cluster_labels + 1)\n",
    "plt.ylabel('Cluster')\n",
    "plt.xlabel('Silhouette coefficient')\n",
    "\n",
    "plt.tight_layout()\n",
    "plt.show()"
   ]
  },
  {
   "cell_type": "markdown",
   "metadata": {},
   "source": [
    "### DBSCAN"
   ]
  },
  {
   "cell_type": "code",
   "execution_count": 414,
   "metadata": {},
   "outputs": [
    {
     "data": {
      "text/plain": [
       "0.15308443206015537"
      ]
     },
     "execution_count": 414,
     "metadata": {},
     "output_type": "execute_result"
    }
   ],
   "source": [
    "from sklearn.cluster import DBSCAN\n",
    "\n",
    "db = DBSCAN(eps=0.8, min_samples=5, metric='manhattan')\n",
    "y_db = db.fit_predict(X_pca)\n",
    "\n",
    "silhouette_score(X_pca, y_db)"
   ]
  }
 ],
 "metadata": {
  "kernelspec": {
   "display_name": "Python 3",
   "language": "python",
   "name": "python3"
  },
  "language_info": {
   "codemirror_mode": {
    "name": "ipython",
    "version": 3
   },
   "file_extension": ".py",
   "mimetype": "text/x-python",
   "name": "python",
   "nbconvert_exporter": "python",
   "pygments_lexer": "ipython3",
   "version": "3.7.4"
  }
 },
 "nbformat": 4,
 "nbformat_minor": 4
}
