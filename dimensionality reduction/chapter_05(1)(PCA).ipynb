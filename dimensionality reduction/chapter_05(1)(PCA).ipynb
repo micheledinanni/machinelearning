{
 "cells": [
  {
   "cell_type": "markdown",
   "metadata": {},
   "source": [
    "# <font style='color:red'>Riduzione della dimensionalità (CAP. VI) </font>"
   ]
  },
  {
   "cell_type": "markdown",
   "metadata": {
    "heading_collapsed": true,
    "hide_input": false
   },
   "source": [
    "#### Passi preliminari<br></br>\n",
    "<font style='color:#0000FF'>\n",
    "    <ul>° Caricamento</ul> \n",
    "    <ul>° Partizionamento</ul>\n",
    "    <ul>° Standardizzazione dei dati</ul>  \n",
    "</font>\n",
    "<b>Espandi sopra per visualizzare ed eseguire</b>"
   ]
  },
  {
   "cell_type": "code",
   "execution_count": 1,
   "metadata": {
    "hidden": true,
    "hide_input": false
   },
   "outputs": [],
   "source": [
    "import pandas as pd\n",
    "import numpy as np\n",
    "import matplotlib.pyplot as plt\n",
    "df_wine = pd.read_csv('wine.data', header=None)\n",
    "df_wine.columns = [\n",
    "    'Class label', 'Alcohol', 'Malic acid', 'Ash', 'Alcalinity of ash',\n",
    "    'Magnesium', 'Total phenols', 'Flavanoids', 'Nonflavanoid phenols',\n",
    "    'Proanthocyanins', 'Color Intensity', 'Hue',\n",
    "    'OD280/OD315 of diluted wines', 'Proline'\n",
    "]\n",
    "from sklearn.model_selection import train_test_split\n",
    "'''Considero le features da 1 a 13 e le associo alla variabile \"X\", \n",
    "le class label le assegno alla variabile \"y\", cioè la sola colonna 0'''\n",
    "\n",
    "X, y = df_wine.iloc[:, 1:].values, df_wine.iloc[:, 0].values\n",
    "X_train, X_test, y_train, y_test = train_test_split(X,\n",
    "                                                    y,\n",
    "                                                    test_size=0.3,\n",
    "                                                    random_state=0,\n",
    "                                                    stratify=y)"
   ]
  },
  {
   "cell_type": "code",
   "execution_count": 2,
   "metadata": {
    "hidden": true
   },
   "outputs": [],
   "source": [
    "'''STANDARD SCALING: ci permette di standardizzare'''\n",
    "from sklearn.preprocessing import StandardScaler\n",
    "stdsc = StandardScaler()\n",
    "X_train_std = stdsc.fit_transform(X_train)\n",
    "X_test_std = stdsc.transform(X_test)"
   ]
  },
  {
   "cell_type": "markdown",
   "metadata": {},
   "source": [
    "### <font style='color:red'>Tecniche principali di riduzione della dimensionalità</font>\n"
   ]
  },
  {
   "cell_type": "markdown",
   "metadata": {},
   "source": [
    "+ **PCA** per riduzione dei dati in forma **non supervisionata**\n",
    "+ **LDA** per riduzione dei dati in forma **supervisionata**, che permette di massimizzare la separabilità fra le classiù\n",
    "+ **KPCA** per riduzione non lineare della dimensionalità via kernel"
   ]
  },
  {
   "cell_type": "markdown",
   "metadata": {},
   "source": [
    "**N.B.** La *feature selection* **(es. algoritmo SBS)** mantiene le features **originali**, ma **non consente** di proiettare i dati in un nuovo spazio delle features, mantenendo quelle originali.\n",
    "\n",
    "La *feature extraction* ci permette sia di garantire una maggiore efficienza in termini computazionali, sia di migliorare la **performance predittiva**, riducendo la dimensionalità.\n",
    "Dunque, la *feature extraction* proietta i dati in un nuovo spazio delle features."
   ]
  },
  {
   "cell_type": "markdown",
   "metadata": {},
   "source": [
    "### <font style=\"color:red\"> Principal Component Analysis </font>"
   ]
  },
  {
   "cell_type": "markdown",
   "metadata": {},
   "source": [
    "+ E' una tecnica **unsupervised**. La **PCA** ci permette di identificare patterns nei dati, basandosi sulla correlazione tra features. \n",
    "+ La **PCA** ci permette di trovare la direzione di massima varianza in un insieme di dati con alta dimensionalità e di proiettare tali dati in un **nuovo sottospazio**, contenente le stesse o inferiori dimensioni dello spazio originale.\n",
    "+ Gli **assi ortogonali**, ovvero i **componenti principali** dei nuovi sottospazi possono essere interpretati come le direzioni di massima varianza. I nuovi assi delle features sono **ortogonali** a tutti gli altri. "
   ]
  },
  {
   "cell_type": "markdown",
   "metadata": {},
   "source": [
    "+ Se utilizziamo la **PCA**, costruiamo la matrice di trasformazione **W** che ha dimensioni **d x k**, mappando il vettore **x** degli esempi di training in un nuovo sottospazio k-dimensionale di features "
   ]
  },
  {
   "cell_type": "markdown",
   "metadata": {},
   "source": [
    "### <font style='color:darkgreen'>Step della PCA</font>\n",
    "1. Standardizzazione dei dati\n",
    "2. Costruzione della matrice di covarianza\n",
    "3. Calcolo autovalori e autovettori della matrice di covarianza\n",
    "4. Ordinamento degli autovalori in ordine decrescente per classificare  gli autovettori\n",
    "5. Seleziono i **k** autovettori che corrispondono ai **k** più grandi autovalori, dove **k** è la dimensionalità del nuovo sottospazio delle features **(k <= d)**\n",
    "6. Costruisco la matrice **W** di proiezione a partire dai \"top\" k autovettori\n",
    "7. Trasformo il dataset d-dimensionale di input (**X**), utilizzando la matrice di proiezione **W** al fine di ottenere il nuovo sottospazio di features k-dimensionale"
   ]
  },
  {
   "cell_type": "markdown",
   "metadata": {},
   "source": [
    "## <font style=\"color:darkblue\"> Principal component analysis in scikit-learn"
   ]
  },
  {
   "cell_type": "markdown",
   "metadata": {},
   "source": [
    "+ La **PCA** in scikit-learn la troviamo implementata in una classe\n",
    "+ Per prima cosa **addestriamo il modello**, utilizzando i dati di training, prima di trasformare sia i dati di training sia di test usando gli stessi parametri\n",
    "\n",
    "Utilizziamo la classe PCA sul dataset di training \"WINE\", classifichiamo gli esempi trasformati con la REGRESSIONE LOGISTICA e visualizziamo le regioni di decisione tramite la funzione *plot_decision_region* \n"
   ]
  },
  {
   "cell_type": "markdown",
   "metadata": {},
   "source": [
    "#### <font style='color:darkred'>Ora andiamo a lavorare con PCA e Regressione Logistica</font>"
   ]
  },
  {
   "cell_type": "code",
   "execution_count": 3,
   "metadata": {
    "hide_input": false
   },
   "outputs": [
    {
     "data": {
      "image/png": "[encoded data removed]",
      "text/plain": [
       "<Figure size 432x288 with 1 Axes>"
      ]
     },
     "metadata": {
      "needs_background": "light"
     },
     "output_type": "display_data"
    }
   ],
   "source": [
    "from sklearn.linear_model import LogisticRegression\n",
    "from sklearn.decomposition import PCA\n",
    "import plot_decision as pd\n",
    "#inizializzazione della PCA e della regressione logistica\n",
    "pca = PCA(n_components=2)\n",
    "lr = LogisticRegression(multi_class='ovr', random_state=1, solver='lbfgs')\n",
    "\n",
    "#ora vado ad operare la riduzione della dimensionalità\n",
    "X_train_pca = pca.fit_transform(X_train_std)\n",
    "X_test_pca = pca.transform(X_test_std)\n",
    "\n",
    "#apprendimento del modello LR con il dataset ridotto(PCA)\n",
    "lr.fit(X_train_pca, y_train)\n",
    "pd.plot_decision_regions(X_train_pca, y_train, classifier=lr)\n",
    "plt.xlabel('PC 1')\n",
    "plt.ylabel('PC 2')\n",
    "plt.legend(loc='lower left')\n",
    "plt.tight_layout()\n",
    "plt.show()\n",
    "#ciò che visualizzo è sui dati di training"
   ]
  },
  {
   "cell_type": "markdown",
   "metadata": {},
   "source": [
    "#### Adesso devo vedere se il mio modello è in grado di separare correttamente le classi e per farlo, faccio un test sulla parte di test (che avevo splittato)"
   ]
  },
  {
   "cell_type": "code",
   "execution_count": 5,
   "metadata": {
    "scrolled": true
   },
   "outputs": [
    {
     "data": {
      "image/png": "[encoded data removed]",
      "text/plain": [
       "<Figure size 432x288 with 1 Axes>"
      ]
     },
     "metadata": {
      "needs_background": "light"
     },
     "output_type": "display_data"
    }
   ],
   "source": [
    "pd.plot_decision_regions(X_test_pca, y_test, classifier=lr)\n",
    "plt.xlabel('PC 1')\n",
    "plt.ylabel('PC 2')\n",
    "plt.legend(loc='lower left')\n",
    "plt.tight_layout()\n",
    "plt.show()\n",
    "#Solo alcuni esempi del test sono classificari male,\n",
    "#tutto sommato è un buon classificatore"
   ]
  },
  {
   "cell_type": "code",
   "execution_count": 6,
   "metadata": {
    "scrolled": true
   },
   "outputs": [
    {
     "data": {
      "text/plain": [
       "array([0.36951469, 0.18434927, 0.11815159, 0.07334252, 0.06422108,\n",
       "       0.05051724, 0.03954654, 0.02643918, 0.02389319, 0.01629614,\n",
       "       0.01380021, 0.01172226, 0.00820609])"
      ]
     },
     "execution_count": 6,
     "metadata": {},
     "output_type": "execute_result"
    }
   ],
   "source": [
    "#In questo modo, vado a vedere quali componenti principali \n",
    "#sono più rilevanti, mostrando gli scores del rapporto di varianza \n",
    "#di ogni componente principale, possiamo notare che i primi due sono\n",
    "#quelli più rilevanti\n",
    "pca = PCA(n_components=None)\n",
    "X_train_pca = pca.fit_transform(X_train_std)\n",
    "pca.explained_variance_ratio_"
   ]
  }
 ],
 "metadata": {
  "kernelspec": {
   "display_name": "Python 3",
   "language": "python",
   "name": "python3"
  },
  "language_info": {
   "codemirror_mode": {
    "name": "ipython",
    "version": 3
   },
   "file_extension": ".py",
   "mimetype": "text/x-python",
   "name": "python",
   "nbconvert_exporter": "python",
   "pygments_lexer": "ipython3",
   "version": "3.7.4"
  }
 },
 "nbformat": 4,
 "nbformat_minor": 2
}
