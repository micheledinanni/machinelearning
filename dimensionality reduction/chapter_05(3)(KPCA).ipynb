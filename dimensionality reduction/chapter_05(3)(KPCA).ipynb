{
 "cells": [
  {
   "cell_type": "markdown",
   "metadata": {},
   "source": [
    "## <font style='color:blue'> Kernel Principal Component Analysis</font>"
   ]
  },
  {
   "cell_type": "markdown",
   "metadata": {},
   "source": [
    "+ Molti algoritmi di **Machine Learning** fanno assunzione sulla **separabilità lineare** dei dati\n",
    "+ Tuttavia, se abbiamo a che fare con problemi non lineari, che potremmo incontrare piuttosto frequentemente nelle applicazioni del mondo reale, tecniche di trasformazione lineare per la riduzione della dimensionalità (PCA e LDA) possono essere inadatte\n",
    "+ Usando **KPCA**, trasformiamo i dati **non separabili linearmente** in un nuovo sottospazio di dimensione inferiore, adatto a classificatori lineari"
   ]
  },
  {
   "cell_type": "markdown",
   "metadata": {},
   "source": [
    "### <font style='color:darkorange'>Caratteristiche del metodo KPCA</font>"
   ]
  },
  {
   "cell_type": "markdown",
   "metadata": {},
   "source": [
    "1. Il **metodo KPCA** ci permette di trasformare i dati mappati in uno spazio **non lineare**, in uno spazio di dimensionalità **alta**, garantendo la **linearità**.\n",
    "2. Vi è un passaggio da uno spazio di dimensione **d** ad uno di dimensione **k**, dove **k >> d**\n",
    "3. In seguito usiamo la **PCA** per ridurre tale *alta dimensionalità* e proiettarci in uno spazio di dimensionalità **bassa**, permettendoci la **separabilità** con un **classificatore lineare** \n",
    "4. Tuttavia, tale approccio è molto **costoso** dal punto di vista computazionale, quindi usiamo il *kernel trick*\n",
    "+ Usando il *kernel trick*, possiamo calcolare la somiglianza tra due vettori di *features* nello spazio delle *features* originale (con un numero molto alto di dimensionalità)"
   ]
  },
  {
   "cell_type": "code",
   "execution_count": 5,
   "metadata": {},
   "outputs": [
    {
     "data": {
      "text/html": [
       "<img src=\"https://raw.githubusercontent.com/rasbt/python-machine-learning-book-3rd-edition/master/ch05/images/05_11.png\" width=\"500\"/>"
      ],
      "text/plain": [
       "<IPython.core.display.Image object>"
      ]
     },
     "execution_count": 5,
     "metadata": {},
     "output_type": "execute_result"
    }
   ],
   "source": [
    "from IPython.display import Image\n",
    "Image(\n",
    "    url=\n",
    "    'https://raw.githubusercontent.com/rasbt/python-machine-learning-book-3rd-edition/master/ch05/images/05_11.png',\n",
    "    width=500)"
   ]
  },
  {
   "cell_type": "markdown",
   "metadata": {},
   "source": [
    "### <font style='color:skyblue'> Step del metodo KPCA</font>"
   ]
  },
  {
   "cell_type": "markdown",
   "metadata": {},
   "source": [
    "1. Calcolo della matrice di similarità del kernel **K**\n",
    "2. Centriamo la matrice **K**, usando la formula:\n",
    "   <p style='text-align:center'><b>K' = K-1nK - K1n + 1nK1n</b></p> dove:<br></br>\n",
    "<b>1n</b> è una matrice n x n in cui i valori sono <b>1/n</b>\n",
    "3. Consideriamo i **primi k** *autovettori* della matrice del kernel centrata in base agli *autovalori* corrispondenti, che sono ordinati in modo decrescente. Contrariamente alla **PCA standard, gli autovettori non sono gli assi del componente principale, ma gli esempi già proiettati su questi assi**."
   ]
  },
  {
   "cell_type": "markdown",
   "metadata": {},
   "source": [
    "## <font style='color:darkgreen'>Kernel PCA in scikit-learn</font>"
   ]
  },
  {
   "cell_type": "code",
   "execution_count": 9,
   "metadata": {},
   "outputs": [],
   "source": [
    "from sklearn.decomposition import KernelPCA\n",
    "from sklearn.datasets import make_moons\n",
    "X, y = make_moons(n_samples=100, random_state=123)\n",
    "scikit_kpca = KernelPCA(n_components=2, kernel='rbf', gamma=15)\n",
    "X_skernpca = scikit_kpca.fit_transform(X)"
   ]
  },
  {
   "cell_type": "code",
   "execution_count": 21,
   "metadata": {},
   "outputs": [
    {
     "data": {
      "image/png": "[encoded data removed]",
      "text/plain": [
       "<Figure size 432x288 with 1 Axes>"
      ]
     },
     "metadata": {
      "needs_background": "light"
     },
     "output_type": "display_data"
    }
   ],
   "source": [
    "import matplotlib.pyplot as plt\n",
    "plt.scatter(X_skernpca[y==0, 0], X_skernpca[y==0, 1],\n",
    "           color='red', marker='^', alpha=0.5)\n",
    "plt.scatter(X_skernpca[y==1, 0], X_skernpca[y==1, 1],\n",
    "           color='darkblue', marker='o', alpha=0.5)\n",
    "plt.xlabel('PC 1')\n",
    "plt.ylabel('PC 2')\n",
    "plt.tight_layout()\n",
    "plt.show()"
   ]
  }
 ],
 "metadata": {
  "kernelspec": {
   "display_name": "Python 3",
   "language": "python",
   "name": "python3"
  },
  "language_info": {
   "codemirror_mode": {
    "name": "ipython",
    "version": 3
   },
   "file_extension": ".py",
   "mimetype": "text/x-python",
   "name": "python",
   "nbconvert_exporter": "python",
   "pygments_lexer": "ipython3",
   "version": "3.7.4"
  }
 },
 "nbformat": 4,
 "nbformat_minor": 2
}
