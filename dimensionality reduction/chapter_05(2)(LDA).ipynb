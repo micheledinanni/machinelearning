{
 "cells": [
  {
   "cell_type": "markdown",
   "metadata": {},
   "source": [
    "# <font style='color:darkorange'>Linear Discriminant Analysis</font>"
   ]
  },
  {
   "cell_type": "markdown",
   "metadata": {
    "heading_collapsed": true
   },
   "source": [
    "#### Passi preliminari<br></br>\n",
    "<font style='color:#0000FF'>\n",
    "    <ul>° Caricamento</ul> \n",
    "    <ul>° Partizionamento</ul>\n",
    "    <ul>° Standardizzazione dei dati</ul>  \n",
    "</font>\n",
    "<b>Espandi sopra per visualizzare ed eseguire</b>"
   ]
  },
  {
   "cell_type": "code",
   "execution_count": 1,
   "metadata": {
    "hidden": true
   },
   "outputs": [],
   "source": [
    "import pandas as pd\n",
    "import numpy as np\n",
    "import matplotlib.pyplot as plt\n",
    "df_wine = pd.read_csv('wine.data', header=None)\n",
    "df_wine.columns = [\n",
    "    'Class label', 'Alcohol', 'Malic acid', 'Ash', 'Alcalinity of ash',\n",
    "    'Magnesium', 'Total phenols', 'Flavanoids', 'Nonflavanoid phenols',\n",
    "    'Proanthocyanins', 'Color Intensity', 'Hue',\n",
    "    'OD280/OD315 of diluted wines', 'Proline'\n",
    "]\n",
    "from sklearn.model_selection import train_test_split\n",
    "'''Considero le features da 1 a 13 e le associo alla variabile \"X\", \n",
    "le class label le assegno alla variabile \"y\", cioè la sola colonna 0'''\n",
    "\n",
    "X, y = df_wine.iloc[:, 1:].values, df_wine.iloc[:, 0].values\n",
    "X_train, X_test, y_train, y_test = train_test_split(X,\n",
    "                                                    y,\n",
    "                                                    test_size=0.3,\n",
    "                                                    random_state=0,\n",
    "                                                    stratify=y)"
   ]
  },
  {
   "cell_type": "code",
   "execution_count": 2,
   "metadata": {
    "hidden": true
   },
   "outputs": [],
   "source": [
    "'''STANDARD SCALING: ci permette di standardizzare'''\n",
    "from sklearn.preprocessing import StandardScaler\n",
    "stdsc = StandardScaler()\n",
    "X_train_std = stdsc.fit_transform(X_train)\n",
    "X_test_std = stdsc.transform(X_test)"
   ]
  },
  {
   "cell_type": "markdown",
   "metadata": {
    "hidden": true
   },
   "source": [
    " ### Differenze fra **LDA** e **PCA**"
   ]
  },
  {
   "cell_type": "markdown",
   "metadata": {
    "hidden": true
   },
   "source": [
    "+ La **PCA** ci permette di trovare gli assi ortogonali componenti di massima varianza all'interno del dataset, l' obiettivo dell' **LDA** è quello di trovare il sottospazio delle features che ottimizza la **separabilità** delle classi\n",
    "+ La **PCA** è un metodo **non supervisionato**, mentre la **LDA** è un metodo **supervisionato**\n",
    "+ **In linea teorica** la **LDA** è migliore \n",
    "+ La PCA tende a **migliorare la classificazione** quando ci troviamo dinnanzi ad un'attività di **riconoscimento delle immagini**: in alcuni casi, per esempio, se ogni classe è composta solo da un piccolo numero di esempi, la **PCA** risulta offrire risultati migliori"
   ]
  },
  {
   "cell_type": "markdown",
   "metadata": {},
   "source": [
    "### <font style='color:red'>Caratteristiche della LDA</font>"
   ]
  },
  {
   "cell_type": "markdown",
   "metadata": {},
   "source": [
    "+ Per poter discriminare le due (o più classi - distrib. normale), è utilizzato un **discriminante lineare** \n",
    "+ **Assumo** che i dati siano distribuiti secondo una **distribuzione normale** \n",
    "+ **Assumo** che le classi abbiano le **stesse matrici di covarianza**\n",
    "+ **Assumo** che gli esempi di **training** siano *indipendenti*\n",
    "+ Sebbene il discriminante lineare mostrato sull'asse y (LD 2) acquisisce molta varianza nel set di dati, non sarebbe un buon discriminante lineare poiché non acquisisce alcuna informazione discriminatoria di classe\n",
    "\n",
    "**N.B.** Tuttavia, qualora uno di questi requisiti non sia garantito, **LDA** funzionerà *ragionevolmente* bene"
   ]
  },
  {
   "cell_type": "code",
   "execution_count": 3,
   "metadata": {
    "hide_input": true
   },
   "outputs": [
    {
     "data": {
      "text/html": [
       "<img src=\"https://raw.githubusercontent.com/rasbt/python-machine-learning-book-3rd-edition/master/ch05/images/05_06.png\" width=\"400\"/>"
      ],
      "text/plain": [
       "<IPython.core.display.Image object>"
      ]
     },
     "execution_count": 3,
     "metadata": {},
     "output_type": "execute_result"
    }
   ],
   "source": [
    "from IPython.display import Image\n",
    "Image(url='https://raw.githubusercontent.com/rasbt/python-machine-learning-book-3rd-edition/master/ch05/images/05_06.png', width=400)"
   ]
  },
  {
   "cell_type": "markdown",
   "metadata": {},
   "source": [
    "### <font style='color:darkgreen'>Step dell' LDA</font>"
   ]
  },
  {
   "cell_type": "markdown",
   "metadata": {},
   "source": [
    "1. Standardizzazione del dataset **d-dimensionale** di input\n",
    "2. Per ogni classe, computo il **vettore medio d-dimensionale**\n",
    "3. Costruisco la **matrice di dispersione fra classi** (**between-matrix**),**Sb** e la **matrice di dispersione all'interno della classe** (**within-matrix**), **Sw**\n",
    "4. Calcolo autovalori e autovettori della matrice **Sw-1Sb**\n",
    "5. Ordino gli autovalori in ordine decrescente per classificare gli autovettori corrispondenti\n",
    "6. Scelgo i *k* autovettori che corrispondono ai *k* autovalori più grandi per costruire la matrice di trasformazione **W** che ha dimensioni **d x k**; gli autovettori sono le colonne di questa matrice\n",
    "7. **Proietto** gli esempi in un nuovo sottospazio delle features usando la matrice di trasformazione **W**"
   ]
  },
  {
   "cell_type": "markdown",
   "metadata": {},
   "source": [
    "## <font style=\"color:darkblue\"> Linear Discriminant Analysis in scikit-learn"
   ]
  },
  {
   "cell_type": "code",
   "execution_count": 18,
   "metadata": {},
   "outputs": [],
   "source": [
    "# Lavoro sul TRAINING set, applicando LDA\n",
    "from sklearn.discriminant_analysis import LinearDiscriminantAnalysis as LDA\n",
    "lda = LDA(n_components=2)\n",
    "X_train_lda = lda.fit_transform(X_train_std, y_train)"
   ]
  },
  {
   "cell_type": "code",
   "execution_count": 17,
   "metadata": {},
   "outputs": [
    {
     "data": {
      "image/png": "[encoded data removed]",
      "text/plain": [
       "<Figure size 432x288 with 1 Axes>"
      ]
     },
     "metadata": {
      "needs_background": "light"
     },
     "output_type": "display_data"
    }
   ],
   "source": [
    "# Utilizzo della Regressione Logistica (LR) \n",
    "#come classificatore sul TRAINING \n",
    "from sklearn.linear_model import LogisticRegression\n",
    "import matplotlib.pyplot as plt\n",
    "import plot_decision as pd\n",
    "lr = LogisticRegression(multi_class='ovr', random_state=1, solver='lbfgs')\n",
    "lr = lr.fit(X_train_lda, y_train)\n",
    "pd.plot_decision_regions(X_train_lda, y_train, classifier=lr)\n",
    "plt.xlabel('LD 1')\n",
    "plt.ylabel('LD 2')\n",
    "plt.legend(loc='lower left')\n",
    "plt.tight_layout()\n",
    "plt.show()"
   ]
  },
  {
   "cell_type": "code",
   "execution_count": 20,
   "metadata": {},
   "outputs": [
    {
     "data": {
      "image/png": "[encoded data removed]",
      "text/plain": [
       "<Figure size 432x288 with 1 Axes>"
      ]
     },
     "metadata": {
      "needs_background": "light"
     },
     "output_type": "display_data"
    }
   ],
   "source": [
    "# Adesso vado a fare la stessa cosa sul TEST\n",
    "# Notiamo che la classificazione è fatta in maniera accurata\n",
    "# Il livello di accuratezza è elevato\n",
    "X_test_lda = lda.transform(X_test_std)\n",
    "pd.plot_decision_regions(X_test_lda, y_test, classifier=lr)\n",
    "plt.xlabel('LD 1')\n",
    "plt.ylabel('LD 2')\n",
    "plt.legend(loc='lower left')\n",
    "plt.tight_layout()\n",
    "plt.show()"
   ]
  }
 ],
 "metadata": {
  "kernelspec": {
   "display_name": "Python 3",
   "language": "python",
   "name": "python3"
  },
  "language_info": {
   "codemirror_mode": {
    "name": "ipython",
    "version": 3
   },
   "file_extension": ".py",
   "mimetype": "text/x-python",
   "name": "python",
   "nbconvert_exporter": "python",
   "pygments_lexer": "ipython3",
   "version": "3.7.4"
  }
 },
 "nbformat": 4,
 "nbformat_minor": 2
}
